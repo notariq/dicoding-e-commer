{
 "cells": [
  {
   "cell_type": "markdown",
   "metadata": {
    "id": "H9wADwK78DCz"
   },
   "source": [
    "# Proyek Analisis Data: [Input Nama Dataset]\n",
    "- **Nama:** Hauzan Ariq Bakri\n",
    "- **Email:** hauzanbakri@gmail.com\n",
    "- **ID Dicoding:** notariq"
   ]
  },
  {
   "cell_type": "markdown",
   "metadata": {
    "id": "eE0raob58DC0"
   },
   "source": [
    "## Menentukan Pertanyaan Bisnis"
   ]
  },
  {
   "cell_type": "markdown",
   "metadata": {
    "id": "GmQeQ5YF8DC0"
   },
   "source": [
    "- Apakah pesanan sampai ke tujuan sesuai dengan prediksi atau sebaliknya?\n",
    "- Seberapa lama pesanan sampai ke tangan pelanggan?\n",
    "- Adakah hubungan kecepatan pengiriman dengan kepuasan pelanggan?"
   ]
  },
  {
   "cell_type": "markdown",
   "metadata": {
    "id": "H-z4QGlO8DC1",
    "jp-MarkdownHeadingCollapsed": true
   },
   "source": [
    "## Import Semua Packages/Library yang Digunakan"
   ]
  },
  {
   "cell_type": "code",
   "execution_count": 70,
   "metadata": {
    "id": "FVYwaObI8DC1"
   },
   "outputs": [],
   "source": [
    "import numpy as np\n",
    "import pandas as pd\n",
    "import matplotlib.pyplot as plt\n",
    "import seaborn as sns"
   ]
  },
  {
   "cell_type": "markdown",
   "metadata": {
    "id": "h_Sh51Xy8DC1"
   },
   "source": [
    "## Data Wrangling"
   ]
  },
  {
   "cell_type": "markdown",
   "metadata": {},
   "source": [
    "Dalam tahap ini kita akan melakukan proses pengambilan data, penilaian data, dan juga pembersihan data. Data yang akan diolah tersebut adalah dataset E-Commerce dari sumber berikut:\n",
    "\n",
    "https://www.kaggle.com/datasets/olistbr/brazilian-ecommerce/data?select=olist_sellers_dataset.csv"
   ]
  },
  {
   "cell_type": "markdown",
   "metadata": {
    "id": "sXU2GBYu8DC1"
   },
   "source": [
    "### Gathering Data"
   ]
  },
  {
   "cell_type": "markdown",
   "metadata": {},
   "source": [
    "**Data Pesanan (Orders)** yang dibaca dari file csv *orders_dataset.csv*, memuat kumpulan data atas pesanan pelanggan disini ditampilkan secara detail status pesanan, estimasi pengiriman, hingga waktu pengiriman. Berikut merupakan kode untuk memasukkan data file csv tersebut ke variabel bernama ***order_df*** "
   ]
  },
  {
   "cell_type": "code",
   "execution_count": 71,
   "metadata": {
    "scrolled": true
   },
   "outputs": [
    {
     "data": {
      "text/html": [
       "<div>\n",
       "<style scoped>\n",
       "    .dataframe tbody tr th:only-of-type {\n",
       "        vertical-align: middle;\n",
       "    }\n",
       "\n",
       "    .dataframe tbody tr th {\n",
       "        vertical-align: top;\n",
       "    }\n",
       "\n",
       "    .dataframe thead th {\n",
       "        text-align: right;\n",
       "    }\n",
       "</style>\n",
       "<table border=\"1\" class=\"dataframe\">\n",
       "  <thead>\n",
       "    <tr style=\"text-align: right;\">\n",
       "      <th></th>\n",
       "      <th>order_id</th>\n",
       "      <th>customer_id</th>\n",
       "      <th>order_status</th>\n",
       "      <th>order_purchase_timestamp</th>\n",
       "      <th>order_approved_at</th>\n",
       "      <th>order_delivered_carrier_date</th>\n",
       "      <th>order_delivered_customer_date</th>\n",
       "      <th>order_estimated_delivery_date</th>\n",
       "    </tr>\n",
       "  </thead>\n",
       "  <tbody>\n",
       "    <tr>\n",
       "      <th>0</th>\n",
       "      <td>e481f51cbdc54678b7cc49136f2d6af7</td>\n",
       "      <td>9ef432eb6251297304e76186b10a928d</td>\n",
       "      <td>delivered</td>\n",
       "      <td>2017-10-02 10:56:33</td>\n",
       "      <td>2017-10-02 11:07:15</td>\n",
       "      <td>2017-10-04 19:55:00</td>\n",
       "      <td>2017-10-10 21:25:13</td>\n",
       "      <td>2017-10-18 00:00:00</td>\n",
       "    </tr>\n",
       "    <tr>\n",
       "      <th>1</th>\n",
       "      <td>53cdb2fc8bc7dce0b6741e2150273451</td>\n",
       "      <td>b0830fb4747a6c6d20dea0b8c802d7ef</td>\n",
       "      <td>delivered</td>\n",
       "      <td>2018-07-24 20:41:37</td>\n",
       "      <td>2018-07-26 03:24:27</td>\n",
       "      <td>2018-07-26 14:31:00</td>\n",
       "      <td>2018-08-07 15:27:45</td>\n",
       "      <td>2018-08-13 00:00:00</td>\n",
       "    </tr>\n",
       "    <tr>\n",
       "      <th>2</th>\n",
       "      <td>47770eb9100c2d0c44946d9cf07ec65d</td>\n",
       "      <td>41ce2a54c0b03bf3443c3d931a367089</td>\n",
       "      <td>delivered</td>\n",
       "      <td>2018-08-08 08:38:49</td>\n",
       "      <td>2018-08-08 08:55:23</td>\n",
       "      <td>2018-08-08 13:50:00</td>\n",
       "      <td>2018-08-17 18:06:29</td>\n",
       "      <td>2018-09-04 00:00:00</td>\n",
       "    </tr>\n",
       "    <tr>\n",
       "      <th>3</th>\n",
       "      <td>949d5b44dbf5de918fe9c16f97b45f8a</td>\n",
       "      <td>f88197465ea7920adcdbec7375364d82</td>\n",
       "      <td>delivered</td>\n",
       "      <td>2017-11-18 19:28:06</td>\n",
       "      <td>2017-11-18 19:45:59</td>\n",
       "      <td>2017-11-22 13:39:59</td>\n",
       "      <td>2017-12-02 00:28:42</td>\n",
       "      <td>2017-12-15 00:00:00</td>\n",
       "    </tr>\n",
       "    <tr>\n",
       "      <th>4</th>\n",
       "      <td>ad21c59c0840e6cb83a9ceb5573f8159</td>\n",
       "      <td>8ab97904e6daea8866dbdbc4fb7aad2c</td>\n",
       "      <td>delivered</td>\n",
       "      <td>2018-02-13 21:18:39</td>\n",
       "      <td>2018-02-13 22:20:29</td>\n",
       "      <td>2018-02-14 19:46:34</td>\n",
       "      <td>2018-02-16 18:17:02</td>\n",
       "      <td>2018-02-26 00:00:00</td>\n",
       "    </tr>\n",
       "  </tbody>\n",
       "</table>\n",
       "</div>"
      ],
      "text/plain": [
       "                           order_id                       customer_id  \\\n",
       "0  e481f51cbdc54678b7cc49136f2d6af7  9ef432eb6251297304e76186b10a928d   \n",
       "1  53cdb2fc8bc7dce0b6741e2150273451  b0830fb4747a6c6d20dea0b8c802d7ef   \n",
       "2  47770eb9100c2d0c44946d9cf07ec65d  41ce2a54c0b03bf3443c3d931a367089   \n",
       "3  949d5b44dbf5de918fe9c16f97b45f8a  f88197465ea7920adcdbec7375364d82   \n",
       "4  ad21c59c0840e6cb83a9ceb5573f8159  8ab97904e6daea8866dbdbc4fb7aad2c   \n",
       "\n",
       "  order_status order_purchase_timestamp    order_approved_at  \\\n",
       "0    delivered      2017-10-02 10:56:33  2017-10-02 11:07:15   \n",
       "1    delivered      2018-07-24 20:41:37  2018-07-26 03:24:27   \n",
       "2    delivered      2018-08-08 08:38:49  2018-08-08 08:55:23   \n",
       "3    delivered      2017-11-18 19:28:06  2017-11-18 19:45:59   \n",
       "4    delivered      2018-02-13 21:18:39  2018-02-13 22:20:29   \n",
       "\n",
       "  order_delivered_carrier_date order_delivered_customer_date  \\\n",
       "0          2017-10-04 19:55:00           2017-10-10 21:25:13   \n",
       "1          2018-07-26 14:31:00           2018-08-07 15:27:45   \n",
       "2          2018-08-08 13:50:00           2018-08-17 18:06:29   \n",
       "3          2017-11-22 13:39:59           2017-12-02 00:28:42   \n",
       "4          2018-02-14 19:46:34           2018-02-16 18:17:02   \n",
       "\n",
       "  order_estimated_delivery_date  \n",
       "0           2017-10-18 00:00:00  \n",
       "1           2018-08-13 00:00:00  \n",
       "2           2018-09-04 00:00:00  \n",
       "3           2017-12-15 00:00:00  \n",
       "4           2018-02-26 00:00:00  "
      ]
     },
     "execution_count": 71,
     "metadata": {},
     "output_type": "execute_result"
    }
   ],
   "source": [
    "# Data pesanan\n",
    "\n",
    "orders_df = pd.read_csv('Dashboard/orders_dataset.csv')\n",
    "orders_df.head()"
   ]
  },
  {
   "cell_type": "markdown",
   "metadata": {},
   "source": [
    "**Data Ulasan (Reviews)** yang dibaca dari file csv *order_reviews_dataset.csv*, memuat kumpulan ulasan pelanggan atas pesanan yang telah selesai, dataset ini memuat berbagai data seperti data rating/skor yang bersifat ordinal antara 1-5, beserta dengan pesan (*message*) pelanggan. Berikut merupakan kode untuk memasukkan data file csv tersebut ke variabel bernama ***order_reviews_df*** "
   ]
  },
  {
   "cell_type": "code",
   "execution_count": 72,
   "metadata": {},
   "outputs": [
    {
     "data": {
      "text/html": [
       "<div>\n",
       "<style scoped>\n",
       "    .dataframe tbody tr th:only-of-type {\n",
       "        vertical-align: middle;\n",
       "    }\n",
       "\n",
       "    .dataframe tbody tr th {\n",
       "        vertical-align: top;\n",
       "    }\n",
       "\n",
       "    .dataframe thead th {\n",
       "        text-align: right;\n",
       "    }\n",
       "</style>\n",
       "<table border=\"1\" class=\"dataframe\">\n",
       "  <thead>\n",
       "    <tr style=\"text-align: right;\">\n",
       "      <th></th>\n",
       "      <th>review_id</th>\n",
       "      <th>order_id</th>\n",
       "      <th>review_score</th>\n",
       "      <th>review_comment_title</th>\n",
       "      <th>review_comment_message</th>\n",
       "      <th>review_creation_date</th>\n",
       "      <th>review_answer_timestamp</th>\n",
       "    </tr>\n",
       "  </thead>\n",
       "  <tbody>\n",
       "    <tr>\n",
       "      <th>0</th>\n",
       "      <td>7bc2406110b926393aa56f80a40eba40</td>\n",
       "      <td>73fc7af87114b39712e6da79b0a377eb</td>\n",
       "      <td>4</td>\n",
       "      <td>NaN</td>\n",
       "      <td>NaN</td>\n",
       "      <td>2018-01-18 00:00:00</td>\n",
       "      <td>2018-01-18 21:46:59</td>\n",
       "    </tr>\n",
       "    <tr>\n",
       "      <th>1</th>\n",
       "      <td>80e641a11e56f04c1ad469d5645fdfde</td>\n",
       "      <td>a548910a1c6147796b98fdf73dbeba33</td>\n",
       "      <td>5</td>\n",
       "      <td>NaN</td>\n",
       "      <td>NaN</td>\n",
       "      <td>2018-03-10 00:00:00</td>\n",
       "      <td>2018-03-11 03:05:13</td>\n",
       "    </tr>\n",
       "    <tr>\n",
       "      <th>2</th>\n",
       "      <td>228ce5500dc1d8e020d8d1322874b6f0</td>\n",
       "      <td>f9e4b658b201a9f2ecdecbb34bed034b</td>\n",
       "      <td>5</td>\n",
       "      <td>NaN</td>\n",
       "      <td>NaN</td>\n",
       "      <td>2018-02-17 00:00:00</td>\n",
       "      <td>2018-02-18 14:36:24</td>\n",
       "    </tr>\n",
       "    <tr>\n",
       "      <th>3</th>\n",
       "      <td>e64fb393e7b32834bb789ff8bb30750e</td>\n",
       "      <td>658677c97b385a9be170737859d3511b</td>\n",
       "      <td>5</td>\n",
       "      <td>NaN</td>\n",
       "      <td>Recebi bem antes do prazo estipulado.</td>\n",
       "      <td>2017-04-21 00:00:00</td>\n",
       "      <td>2017-04-21 22:02:06</td>\n",
       "    </tr>\n",
       "    <tr>\n",
       "      <th>4</th>\n",
       "      <td>f7c4243c7fe1938f181bec41a392bdeb</td>\n",
       "      <td>8e6bfb81e283fa7e4f11123a3fb894f1</td>\n",
       "      <td>5</td>\n",
       "      <td>NaN</td>\n",
       "      <td>Parabéns lojas lannister adorei comprar pela I...</td>\n",
       "      <td>2018-03-01 00:00:00</td>\n",
       "      <td>2018-03-02 10:26:53</td>\n",
       "    </tr>\n",
       "  </tbody>\n",
       "</table>\n",
       "</div>"
      ],
      "text/plain": [
       "                          review_id                          order_id  \\\n",
       "0  7bc2406110b926393aa56f80a40eba40  73fc7af87114b39712e6da79b0a377eb   \n",
       "1  80e641a11e56f04c1ad469d5645fdfde  a548910a1c6147796b98fdf73dbeba33   \n",
       "2  228ce5500dc1d8e020d8d1322874b6f0  f9e4b658b201a9f2ecdecbb34bed034b   \n",
       "3  e64fb393e7b32834bb789ff8bb30750e  658677c97b385a9be170737859d3511b   \n",
       "4  f7c4243c7fe1938f181bec41a392bdeb  8e6bfb81e283fa7e4f11123a3fb894f1   \n",
       "\n",
       "   review_score review_comment_title  \\\n",
       "0             4                  NaN   \n",
       "1             5                  NaN   \n",
       "2             5                  NaN   \n",
       "3             5                  NaN   \n",
       "4             5                  NaN   \n",
       "\n",
       "                              review_comment_message review_creation_date  \\\n",
       "0                                                NaN  2018-01-18 00:00:00   \n",
       "1                                                NaN  2018-03-10 00:00:00   \n",
       "2                                                NaN  2018-02-17 00:00:00   \n",
       "3              Recebi bem antes do prazo estipulado.  2017-04-21 00:00:00   \n",
       "4  Parabéns lojas lannister adorei comprar pela I...  2018-03-01 00:00:00   \n",
       "\n",
       "  review_answer_timestamp  \n",
       "0     2018-01-18 21:46:59  \n",
       "1     2018-03-11 03:05:13  \n",
       "2     2018-02-18 14:36:24  \n",
       "3     2017-04-21 22:02:06  \n",
       "4     2018-03-02 10:26:53  "
      ]
     },
     "execution_count": 72,
     "metadata": {},
     "output_type": "execute_result"
    }
   ],
   "source": [
    "# Data ulasan\n",
    "\n",
    "order_reviews_df = pd.read_csv('Dashboard/order_reviews_dataset.csv')\n",
    "order_reviews_df.head()"
   ]
  },
  {
   "cell_type": "markdown",
   "metadata": {
    "id": "MMi6xGaDkbCi"
   },
   "source": [
    "**Insight:**\n",
    "\n",
    "Kita akan menggunakan dua dataset, yaitu: \n",
    "\n",
    "- Data Pesanan (*orders_dataset.csv*): orders_df\n",
    "- Data Barang Pesanan (*order_reviews_dataset.csv*): order_reviews_df"
   ]
  },
  {
   "cell_type": "markdown",
   "metadata": {
    "id": "FHSiqaZp8DC1",
    "jp-MarkdownHeadingCollapsed": true
   },
   "source": [
    "### Assessing Data"
   ]
  },
  {
   "cell_type": "markdown",
   "metadata": {
    "jp-MarkdownHeadingCollapsed": true
   },
   "source": [
    "#### Menilai Data *orders_df*"
   ]
  },
  {
   "cell_type": "code",
   "execution_count": 73,
   "metadata": {},
   "outputs": [
    {
     "name": "stdout",
     "output_type": "stream",
     "text": [
      "<class 'pandas.core.frame.DataFrame'>\n",
      "RangeIndex: 99441 entries, 0 to 99440\n",
      "Data columns (total 8 columns):\n",
      " #   Column                         Non-Null Count  Dtype \n",
      "---  ------                         --------------  ----- \n",
      " 0   order_id                       99441 non-null  object\n",
      " 1   customer_id                    99441 non-null  object\n",
      " 2   order_status                   99441 non-null  object\n",
      " 3   order_purchase_timestamp       99441 non-null  object\n",
      " 4   order_approved_at              99281 non-null  object\n",
      " 5   order_delivered_carrier_date   97658 non-null  object\n",
      " 6   order_delivered_customer_date  96476 non-null  object\n",
      " 7   order_estimated_delivery_date  99441 non-null  object\n",
      "dtypes: object(8)\n",
      "memory usage: 6.1+ MB\n"
     ]
    }
   ],
   "source": [
    "# Cek Informasi\n",
    "orders_df.info()"
   ]
  },
  {
   "cell_type": "markdown",
   "metadata": {},
   "source": [
    "Ada beberapa keanehan pada informasi data tersebut, kita konfirmasi dengan kode berikut:"
   ]
  },
  {
   "cell_type": "code",
   "execution_count": 74,
   "metadata": {},
   "outputs": [
    {
     "name": "stdout",
     "output_type": "stream",
     "text": [
      "order_id                            0\n",
      "customer_id                         0\n",
      "order_status                        0\n",
      "order_purchase_timestamp            0\n",
      "order_approved_at                 160\n",
      "order_delivered_carrier_date     1783\n",
      "order_delivered_customer_date    2965\n",
      "order_estimated_delivery_date       0\n",
      "dtype: int64\n",
      "\n",
      "Duplikat:  0\n"
     ]
    }
   ],
   "source": [
    "# Cek Null\n",
    "print(orders_df.isna().sum())\n",
    "\n",
    "# Cek duplikasi data\n",
    "print(\"\\nDuplikat: \", orders_df.duplicated().sum())"
   ]
  },
  {
   "cell_type": "markdown",
   "metadata": {},
   "source": [
    "Meskipun tidak ada duplikasi, ternyata benar adanya data Null di dalam data orders_df. Walaupun demikian, kita butuh tahu kenapa data tersebut dapat bersifat null, data ini mendokumentasikan status dan perjalanan sebuah pesanan/paket dari awal pesanan dibuat sampai pesanan tiba di tujuan. Dengan begitu data null yang ada bukan hanya sekedar \"anomali\" namun dapat berupa ketidakadaan data karena proses transakasi belom sampai ke suatu tahapan.   "
   ]
  },
  {
   "cell_type": "code",
   "execution_count": 75,
   "metadata": {},
   "outputs": [
    {
     "data": {
      "text/plain": [
       "order_status\n",
       "delivered      96478\n",
       "shipped         1107\n",
       "canceled         625\n",
       "unavailable      609\n",
       "invoiced         314\n",
       "processing       301\n",
       "created            5\n",
       "approved           2\n",
       "Name: count, dtype: int64"
      ]
     },
     "execution_count": 75,
     "metadata": {},
     "output_type": "execute_result"
    }
   ],
   "source": [
    "orders_df['order_status'].value_counts()"
   ]
  },
  {
   "cell_type": "code",
   "execution_count": 76,
   "metadata": {},
   "outputs": [
    {
     "name": "stdout",
     "output_type": "stream",
     "text": [
      "Pesanan yang belum terkirim: 2963\n"
     ]
    }
   ],
   "source": [
    "print('Pesanan yang belum terkirim:', orders_df[orders_df['order_status'] != 'delivered']['order_status'].value_counts().sum())"
   ]
  },
  {
   "cell_type": "markdown",
   "metadata": {},
   "source": [
    "Dapat dilihat bahwa jumlah pesanan yang belum terkirim hampir sama dengan data null di kolom order_delivered_customer_date, dengan begitu langkah selanjutnya adalah membersihkan data tersebut. "
   ]
  },
  {
   "cell_type": "code",
   "execution_count": 77,
   "metadata": {},
   "outputs": [
    {
     "data": {
      "text/html": [
       "<div>\n",
       "<style scoped>\n",
       "    .dataframe tbody tr th:only-of-type {\n",
       "        vertical-align: middle;\n",
       "    }\n",
       "\n",
       "    .dataframe tbody tr th {\n",
       "        vertical-align: top;\n",
       "    }\n",
       "\n",
       "    .dataframe thead th {\n",
       "        text-align: right;\n",
       "    }\n",
       "</style>\n",
       "<table border=\"1\" class=\"dataframe\">\n",
       "  <thead>\n",
       "    <tr style=\"text-align: right;\">\n",
       "      <th></th>\n",
       "      <th>order_id</th>\n",
       "      <th>customer_id</th>\n",
       "      <th>order_status</th>\n",
       "      <th>order_purchase_timestamp</th>\n",
       "      <th>order_approved_at</th>\n",
       "      <th>order_delivered_carrier_date</th>\n",
       "      <th>order_delivered_customer_date</th>\n",
       "      <th>order_estimated_delivery_date</th>\n",
       "    </tr>\n",
       "  </thead>\n",
       "  <tbody>\n",
       "    <tr>\n",
       "      <th>count</th>\n",
       "      <td>99441</td>\n",
       "      <td>99441</td>\n",
       "      <td>99441</td>\n",
       "      <td>99441</td>\n",
       "      <td>99281</td>\n",
       "      <td>97658</td>\n",
       "      <td>96476</td>\n",
       "      <td>99441</td>\n",
       "    </tr>\n",
       "    <tr>\n",
       "      <th>unique</th>\n",
       "      <td>99441</td>\n",
       "      <td>99441</td>\n",
       "      <td>8</td>\n",
       "      <td>98875</td>\n",
       "      <td>90733</td>\n",
       "      <td>81018</td>\n",
       "      <td>95664</td>\n",
       "      <td>459</td>\n",
       "    </tr>\n",
       "    <tr>\n",
       "      <th>top</th>\n",
       "      <td>e481f51cbdc54678b7cc49136f2d6af7</td>\n",
       "      <td>9ef432eb6251297304e76186b10a928d</td>\n",
       "      <td>delivered</td>\n",
       "      <td>2018-04-11 10:48:14</td>\n",
       "      <td>2018-02-27 04:31:10</td>\n",
       "      <td>2018-05-09 15:48:00</td>\n",
       "      <td>2018-05-08 23:38:46</td>\n",
       "      <td>2017-12-20 00:00:00</td>\n",
       "    </tr>\n",
       "    <tr>\n",
       "      <th>freq</th>\n",
       "      <td>1</td>\n",
       "      <td>1</td>\n",
       "      <td>96478</td>\n",
       "      <td>3</td>\n",
       "      <td>9</td>\n",
       "      <td>47</td>\n",
       "      <td>3</td>\n",
       "      <td>522</td>\n",
       "    </tr>\n",
       "  </tbody>\n",
       "</table>\n",
       "</div>"
      ],
      "text/plain": [
       "                                order_id                       customer_id  \\\n",
       "count                              99441                             99441   \n",
       "unique                             99441                             99441   \n",
       "top     e481f51cbdc54678b7cc49136f2d6af7  9ef432eb6251297304e76186b10a928d   \n",
       "freq                                   1                                 1   \n",
       "\n",
       "       order_status order_purchase_timestamp    order_approved_at  \\\n",
       "count         99441                    99441                99281   \n",
       "unique            8                    98875                90733   \n",
       "top       delivered      2018-04-11 10:48:14  2018-02-27 04:31:10   \n",
       "freq          96478                        3                    9   \n",
       "\n",
       "       order_delivered_carrier_date order_delivered_customer_date  \\\n",
       "count                         97658                         96476   \n",
       "unique                        81018                         95664   \n",
       "top             2018-05-09 15:48:00           2018-05-08 23:38:46   \n",
       "freq                             47                             3   \n",
       "\n",
       "       order_estimated_delivery_date  \n",
       "count                          99441  \n",
       "unique                           459  \n",
       "top              2017-12-20 00:00:00  \n",
       "freq                             522  "
      ]
     },
     "execution_count": 77,
     "metadata": {},
     "output_type": "execute_result"
    }
   ],
   "source": [
    "orders_df.describe(include=\"all\")"
   ]
  },
  {
   "cell_type": "markdown",
   "metadata": {
    "jp-MarkdownHeadingCollapsed": true
   },
   "source": [
    "#### Menilai Data *order_reviews_df*"
   ]
  },
  {
   "cell_type": "code",
   "execution_count": 78,
   "metadata": {},
   "outputs": [
    {
     "name": "stdout",
     "output_type": "stream",
     "text": [
      "<class 'pandas.core.frame.DataFrame'>\n",
      "RangeIndex: 99224 entries, 0 to 99223\n",
      "Data columns (total 7 columns):\n",
      " #   Column                   Non-Null Count  Dtype \n",
      "---  ------                   --------------  ----- \n",
      " 0   review_id                99224 non-null  object\n",
      " 1   order_id                 99224 non-null  object\n",
      " 2   review_score             99224 non-null  int64 \n",
      " 3   review_comment_title     11568 non-null  object\n",
      " 4   review_comment_message   40977 non-null  object\n",
      " 5   review_creation_date     99224 non-null  object\n",
      " 6   review_answer_timestamp  99224 non-null  object\n",
      "dtypes: int64(1), object(6)\n",
      "memory usage: 5.3+ MB\n",
      "\n",
      "review_id                      0\n",
      "order_id                       0\n",
      "review_score                   0\n",
      "review_comment_title       87656\n",
      "review_comment_message     58247\n",
      "review_creation_date           0\n",
      "review_answer_timestamp        0\n",
      "dtype: int64\n",
      "\n",
      "Duplikat:  0\n"
     ]
    }
   ],
   "source": [
    "order_reviews_df.info()\n",
    "\n",
    "print()\n",
    "print(order_reviews_df.isna().sum())\n",
    "\n",
    "print(\"\\nDuplikat: \", order_reviews_df.duplicated().sum())"
   ]
  },
  {
   "cell_type": "markdown",
   "metadata": {},
   "source": [
    "Dapat dilihat order_reviews_df memiliki data null yang cukup banyak, data tersebut hanya merupakan judul dan isi dari sebuah ulasan sebuah pesanan yang mungkin bersifat opsional bagi pengguna saat memasukkannya."
   ]
  },
  {
   "cell_type": "markdown",
   "metadata": {
    "id": "7dtxhAPrkhPL",
    "jp-MarkdownHeadingCollapsed": true
   },
   "source": [
    "#### **Insight:**\n",
    "\n",
    "Dari proses Assessing Data yang telah dilakukan, maka dpat disimpulkan bahwa: \n",
    "- Semua dataframe **tidak memiliki data duplikat**.\n",
    "- Ada beberapa field di data yang tidak memiliki data atau null oleh karena itu butuh dilakukan tahapan pembersihan. "
   ]
  },
  {
   "cell_type": "markdown",
   "metadata": {
    "id": "EhN5R4hr8DC1"
   },
   "source": [
    "### Cleaning Data"
   ]
  },
  {
   "cell_type": "markdown",
   "metadata": {},
   "source": [
    "Karena ada beberapa data yang belum sesuai maka kita akan melakukan pembersihan data."
   ]
  },
  {
   "cell_type": "markdown",
   "metadata": {},
   "source": [
    "Data orders_df memiliki data null di dalam beberapa field-nya, setelah di telusuri lagi semua field tersebut berupa **tanggal** yang menandakan belum selesainya sebuah proses transaksi (paket sampai ke tujuan). Karena pertanyaan bisnis kita berkaitan dengan pesanan yang selesai, kita bisa men-drop data yang statusnya belum 'delivered' dan data yang null."
   ]
  },
  {
   "cell_type": "code",
   "execution_count": 79,
   "metadata": {},
   "outputs": [],
   "source": [
    "success_orders_df = orders_df[orders_df['order_status'] == 'delivered']\n",
    "success_orders_df = success_orders_df.dropna()"
   ]
  },
  {
   "cell_type": "code",
   "execution_count": 80,
   "metadata": {
    "id": "jVnYpprE9Evz"
   },
   "outputs": [
    {
     "data": {
      "text/plain": [
       "order_id                         0\n",
       "customer_id                      0\n",
       "order_status                     0\n",
       "order_purchase_timestamp         0\n",
       "order_approved_at                0\n",
       "order_delivered_carrier_date     0\n",
       "order_delivered_customer_date    0\n",
       "order_estimated_delivery_date    0\n",
       "dtype: int64"
      ]
     },
     "execution_count": 80,
     "metadata": {},
     "output_type": "execute_result"
    }
   ],
   "source": [
    "success_orders_df.isna().sum()"
   ]
  },
  {
   "cell_type": "markdown",
   "metadata": {},
   "source": [
    "Data order_reviews_df juga memiliki beberapa data null di dalamnya. Kita akan memasukkan data yang sesuai ke dalam data null tersebut."
   ]
  },
  {
   "cell_type": "code",
   "execution_count": 81,
   "metadata": {},
   "outputs": [],
   "source": [
    "# Memasukkan data untuk judul dan isi ulasan yang kosong\n",
    "order_reviews_df['review_comment_title'] = order_reviews_df['review_comment_title'].fillna('No Title')\n",
    "order_reviews_df['review_comment_message'] = order_reviews_df['review_comment_message'].fillna('No Message')"
   ]
  },
  {
   "cell_type": "code",
   "execution_count": 82,
   "metadata": {},
   "outputs": [
    {
     "data": {
      "text/plain": [
       "review_id                  0\n",
       "order_id                   0\n",
       "review_score               0\n",
       "review_comment_title       0\n",
       "review_comment_message     0\n",
       "review_creation_date       0\n",
       "review_answer_timestamp    0\n",
       "dtype: int64"
      ]
     },
     "execution_count": 82,
     "metadata": {},
     "output_type": "execute_result"
    }
   ],
   "source": [
    "order_reviews_df.isna().sum()"
   ]
  },
  {
   "cell_type": "markdown",
   "metadata": {},
   "source": [
    "**Insight:**\n",
    "\n",
    "- Dalam data ***orders_df*** kita melakukan filter berdasarkan kolom status yang bernilai 'delivered' dan menghapus data yang bernilai null  \n",
    "- Dalam data ***order_reviews_df*** kita melakukan pembersihan data null dengan memasukkan nilai yang sesuai untuk setiap kolom"
   ]
  },
  {
   "cell_type": "markdown",
   "metadata": {
    "id": "gp-Y6wU38DC1"
   },
   "source": [
    "## Exploratory Data Analysis (EDA)"
   ]
  },
  {
   "cell_type": "markdown",
   "metadata": {},
   "source": [
    "Selanjutnya kita akan melakukan eksplorasi terhadap setiap data untuk mencari *insight* menarik guna menjawab pertanyaan bisnis yang telah di sebutkan."
   ]
  },
  {
   "cell_type": "markdown",
   "metadata": {
    "id": "MW7WF2kr8DC1"
   },
   "source": [
    "### Explore Data *orders_df*"
   ]
  },
  {
   "cell_type": "markdown",
   "metadata": {},
   "source": [
    "Sebelum memulai explorasi data orders_df, kita akan mengubah kolom tanggan menjadi tipe data waktu milik pandas dengan fungsi to_datetime() agar kita dapat bekerja atau melakukan operasi dengan data tanggal."
   ]
  },
  {
   "cell_type": "code",
   "execution_count": 83,
   "metadata": {},
   "outputs": [],
   "source": [
    "success_orders_df['order_delivered_customer_date'] = pd.to_datetime(success_orders_df['order_delivered_customer_date'], errors='coerce')\n",
    "success_orders_df['order_approved_at'] = pd.to_datetime(success_orders_df['order_approved_at'], errors='coerce')\n",
    "success_orders_df['order_delivered_carrier_date'] = pd.to_datetime(success_orders_df['order_delivered_carrier_date'], errors='coerce')\n",
    "success_orders_df['order_purchase_timestamp'] = pd.to_datetime(success_orders_df['order_purchase_timestamp'], errors='coerce')\n",
    "success_orders_df['order_estimated_delivery_date'] = pd.to_datetime(success_orders_df['order_estimated_delivery_date'], errors='coerce')"
   ]
  },
  {
   "cell_type": "markdown",
   "metadata": {},
   "source": [
    "Kita akan membuat kolom baru bernama status untuk menandakan apakah pesanan telah sampai ke pelanggan tujuan seusuai dengan tanggal estimasinya, untuk itu kita akan membandingkan kolom order_delivered_customer_date dengan order_delivered_customer_date. Jika hasil perbandingan kurang dari maka kita masukkan 'Early' (lebih awal), jika lebih dari maka 'Late' (telat), dan jika kurang sama maka 'On Time' (sesuai waktu). Untuk melakukannya kita akan menggunakan kombinasi fungsi apply() dan lambda yang memuat kondisi tersebut."
   ]
  },
  {
   "cell_type": "code",
   "execution_count": 84,
   "metadata": {},
   "outputs": [],
   "source": [
    "success_orders_df['status'] = success_orders_df.apply(\n",
    "    lambda row: 'Early' if row['order_delivered_customer_date'].date() < row['order_estimated_delivery_date'].date() else\n",
    "                'Late' if row['order_delivered_customer_date'].date() > row['order_estimated_delivery_date'].date() else\n",
    "                'On Time', axis=1\n",
    ")"
   ]
  },
  {
   "cell_type": "code",
   "execution_count": 85,
   "metadata": {},
   "outputs": [
    {
     "data": {
      "text/html": [
       "<div>\n",
       "<style scoped>\n",
       "    .dataframe tbody tr th:only-of-type {\n",
       "        vertical-align: middle;\n",
       "    }\n",
       "\n",
       "    .dataframe tbody tr th {\n",
       "        vertical-align: top;\n",
       "    }\n",
       "\n",
       "    .dataframe thead th {\n",
       "        text-align: right;\n",
       "    }\n",
       "</style>\n",
       "<table border=\"1\" class=\"dataframe\">\n",
       "  <thead>\n",
       "    <tr style=\"text-align: right;\">\n",
       "      <th></th>\n",
       "      <th>order_id</th>\n",
       "      <th>customer_id</th>\n",
       "      <th>order_status</th>\n",
       "      <th>order_purchase_timestamp</th>\n",
       "      <th>order_approved_at</th>\n",
       "      <th>order_delivered_carrier_date</th>\n",
       "      <th>order_delivered_customer_date</th>\n",
       "      <th>order_estimated_delivery_date</th>\n",
       "      <th>status</th>\n",
       "    </tr>\n",
       "  </thead>\n",
       "  <tbody>\n",
       "    <tr>\n",
       "      <th>87207</th>\n",
       "      <td>2362f0e9afcae197310501d93b070bb6</td>\n",
       "      <td>faa44d6a18c50d95adfcb8b7fcf075fd</td>\n",
       "      <td>delivered</td>\n",
       "      <td>2018-05-13 21:50:15</td>\n",
       "      <td>2018-05-13 22:13:28</td>\n",
       "      <td>2018-05-21 14:11:00</td>\n",
       "      <td>2018-06-05 14:28:54</td>\n",
       "      <td>2018-06-05</td>\n",
       "      <td>On Time</td>\n",
       "    </tr>\n",
       "    <tr>\n",
       "      <th>48176</th>\n",
       "      <td>88765c7c25c8dd40cefcd887f3c8cd8e</td>\n",
       "      <td>69ad7c75c00e77e4a1385cf071fcc95d</td>\n",
       "      <td>delivered</td>\n",
       "      <td>2018-07-10 12:29:11</td>\n",
       "      <td>2018-07-10 12:45:39</td>\n",
       "      <td>2018-07-12 14:24:00</td>\n",
       "      <td>2018-07-23 18:32:20</td>\n",
       "      <td>2018-08-14</td>\n",
       "      <td>Early</td>\n",
       "    </tr>\n",
       "    <tr>\n",
       "      <th>92820</th>\n",
       "      <td>9771eaad8e60f7b28d57d554cc2bc62c</td>\n",
       "      <td>84872d1894135d15c4e51ba68ba3e8fb</td>\n",
       "      <td>delivered</td>\n",
       "      <td>2017-03-13 16:55:24</td>\n",
       "      <td>2017-03-13 16:55:24</td>\n",
       "      <td>2017-03-14 09:58:28</td>\n",
       "      <td>2017-03-20 08:57:52</td>\n",
       "      <td>2017-04-03</td>\n",
       "      <td>Early</td>\n",
       "    </tr>\n",
       "  </tbody>\n",
       "</table>\n",
       "</div>"
      ],
      "text/plain": [
       "                               order_id                       customer_id  \\\n",
       "87207  2362f0e9afcae197310501d93b070bb6  faa44d6a18c50d95adfcb8b7fcf075fd   \n",
       "48176  88765c7c25c8dd40cefcd887f3c8cd8e  69ad7c75c00e77e4a1385cf071fcc95d   \n",
       "92820  9771eaad8e60f7b28d57d554cc2bc62c  84872d1894135d15c4e51ba68ba3e8fb   \n",
       "\n",
       "      order_status order_purchase_timestamp   order_approved_at  \\\n",
       "87207    delivered      2018-05-13 21:50:15 2018-05-13 22:13:28   \n",
       "48176    delivered      2018-07-10 12:29:11 2018-07-10 12:45:39   \n",
       "92820    delivered      2017-03-13 16:55:24 2017-03-13 16:55:24   \n",
       "\n",
       "      order_delivered_carrier_date order_delivered_customer_date  \\\n",
       "87207          2018-05-21 14:11:00           2018-06-05 14:28:54   \n",
       "48176          2018-07-12 14:24:00           2018-07-23 18:32:20   \n",
       "92820          2017-03-14 09:58:28           2017-03-20 08:57:52   \n",
       "\n",
       "      order_estimated_delivery_date   status  \n",
       "87207                    2018-06-05  On Time  \n",
       "48176                    2018-08-14    Early  \n",
       "92820                    2017-04-03    Early  "
      ]
     },
     "execution_count": 85,
     "metadata": {},
     "output_type": "execute_result"
    }
   ],
   "source": [
    "success_orders_df.sample(3)"
   ]
  },
  {
   "cell_type": "code",
   "execution_count": 86,
   "metadata": {},
   "outputs": [
    {
     "data": {
      "text/plain": [
       "status\n",
       "Early      88630\n",
       "Late        6533\n",
       "On Time     1292\n",
       "Name: order_id, dtype: int64"
      ]
     },
     "execution_count": 86,
     "metadata": {},
     "output_type": "execute_result"
    }
   ],
   "source": [
    "success_orders_df.groupby(by=\"status\").order_id.nunique().sort_values(ascending=False)"
   ]
  },
  {
   "cell_type": "markdown",
   "metadata": {},
   "source": [
    "Ternyata banyak pesanan yang sampai lebih awal dari perkiraan estimasi perjalanan dengan nilai 88630, dilanjutkan dengan pesanan telat yang berjumlah cukup banyak yaitu 6533, dan pesanan yang sampai tepat waktu sebanyak 1292."
   ]
  },
  {
   "cell_type": "markdown",
   "metadata": {},
   "source": [
    "Kita juga dapat melihat selisih hari dari tanggal estimasi pesanan dengan tanggal pesanan sampai ke pelanggan."
   ]
  },
  {
   "cell_type": "code",
   "execution_count": 87,
   "metadata": {},
   "outputs": [
    {
     "data": {
      "text/plain": [
       "count    96455.000000\n",
       "mean        10.874584\n",
       "std         10.181726\n",
       "min       -189.000000\n",
       "25%          6.000000\n",
       "50%         11.000000\n",
       "75%         16.000000\n",
       "max        146.000000\n",
       "dtype: float64"
      ]
     },
     "execution_count": 87,
     "metadata": {},
     "output_type": "execute_result"
    }
   ],
   "source": [
    "delivered_estimated_diff = (success_orders_df['order_estimated_delivery_date'] - success_orders_df['order_delivered_customer_date']).dt.days\n",
    "\n",
    "delivered_estimated_diff.describe()"
   ]
  },
  {
   "cell_type": "markdown",
   "metadata": {},
   "source": [
    "Jika kita lihat rata-rata perbedaan pengiriman sebenarnya dengan estimasi adalah 10 hari. Disini kita juga dapat melihat nilai yang negatif sebagai nilai terkecil di data ini, hal ini menunjukkan pesanan tersebut tiba sebelum tanggal yang diperkirakan, sebaliknya untuk nilai yang positif pesanan tiba setelah tanggal yang diperkirakan."
   ]
  },
  {
   "cell_type": "markdown",
   "metadata": {},
   "source": [
    "Selanjutnya kita akan melihat berapa lama sebuah pesanan sampai ke tujuan (dari pelanggan membayar pesanan), kita akan menghitung selisih dari order_delivered_customer_date (tanggal sampai) dan order_purchase_timestamp (tanggal pembelian), nantinya hasil akan dimasukkan ke kolom delivery_time_day"
   ]
  },
  {
   "cell_type": "code",
   "execution_count": 88,
   "metadata": {},
   "outputs": [
    {
     "data": {
      "text/html": [
       "<div>\n",
       "<style scoped>\n",
       "    .dataframe tbody tr th:only-of-type {\n",
       "        vertical-align: middle;\n",
       "    }\n",
       "\n",
       "    .dataframe tbody tr th {\n",
       "        vertical-align: top;\n",
       "    }\n",
       "\n",
       "    .dataframe thead th {\n",
       "        text-align: right;\n",
       "    }\n",
       "</style>\n",
       "<table border=\"1\" class=\"dataframe\">\n",
       "  <thead>\n",
       "    <tr style=\"text-align: right;\">\n",
       "      <th></th>\n",
       "      <th>order_id</th>\n",
       "      <th>customer_id</th>\n",
       "      <th>order_status</th>\n",
       "      <th>order_purchase_timestamp</th>\n",
       "      <th>order_approved_at</th>\n",
       "      <th>order_delivered_carrier_date</th>\n",
       "      <th>order_delivered_customer_date</th>\n",
       "      <th>order_estimated_delivery_date</th>\n",
       "      <th>status</th>\n",
       "      <th>delivery_time_days</th>\n",
       "    </tr>\n",
       "  </thead>\n",
       "  <tbody>\n",
       "    <tr>\n",
       "      <th>11414</th>\n",
       "      <td>6856cad14147606a83cb29cb4feffce3</td>\n",
       "      <td>91dbee61cb4484fa7121b6101155933a</td>\n",
       "      <td>delivered</td>\n",
       "      <td>2018-04-08 12:08:24</td>\n",
       "      <td>2018-04-10 03:50:20</td>\n",
       "      <td>2018-04-11 22:42:26</td>\n",
       "      <td>2018-04-18 22:05:32</td>\n",
       "      <td>2018-05-09</td>\n",
       "      <td>Early</td>\n",
       "      <td>10</td>\n",
       "    </tr>\n",
       "    <tr>\n",
       "      <th>601</th>\n",
       "      <td>2042abeefae68e63a8aa30edd4b0eb48</td>\n",
       "      <td>a37a37235d7b3be3e2f95747ca589bda</td>\n",
       "      <td>delivered</td>\n",
       "      <td>2018-05-26 23:52:17</td>\n",
       "      <td>2018-05-27 23:49:24</td>\n",
       "      <td>2018-05-28 14:09:00</td>\n",
       "      <td>2018-05-30 15:48:56</td>\n",
       "      <td>2018-06-20</td>\n",
       "      <td>Early</td>\n",
       "      <td>3</td>\n",
       "    </tr>\n",
       "    <tr>\n",
       "      <th>17109</th>\n",
       "      <td>4e574601fa03ae371593a005d9cc7a32</td>\n",
       "      <td>415130aa0b0c6ea42bd6aa2fc43b503a</td>\n",
       "      <td>delivered</td>\n",
       "      <td>2018-02-28 16:07:02</td>\n",
       "      <td>2018-03-03 03:20:25</td>\n",
       "      <td>2018-03-06 18:49:06</td>\n",
       "      <td>2018-03-22 16:22:59</td>\n",
       "      <td>2018-04-02</td>\n",
       "      <td>Early</td>\n",
       "      <td>22</td>\n",
       "    </tr>\n",
       "  </tbody>\n",
       "</table>\n",
       "</div>"
      ],
      "text/plain": [
       "                               order_id                       customer_id  \\\n",
       "11414  6856cad14147606a83cb29cb4feffce3  91dbee61cb4484fa7121b6101155933a   \n",
       "601    2042abeefae68e63a8aa30edd4b0eb48  a37a37235d7b3be3e2f95747ca589bda   \n",
       "17109  4e574601fa03ae371593a005d9cc7a32  415130aa0b0c6ea42bd6aa2fc43b503a   \n",
       "\n",
       "      order_status order_purchase_timestamp   order_approved_at  \\\n",
       "11414    delivered      2018-04-08 12:08:24 2018-04-10 03:50:20   \n",
       "601      delivered      2018-05-26 23:52:17 2018-05-27 23:49:24   \n",
       "17109    delivered      2018-02-28 16:07:02 2018-03-03 03:20:25   \n",
       "\n",
       "      order_delivered_carrier_date order_delivered_customer_date  \\\n",
       "11414          2018-04-11 22:42:26           2018-04-18 22:05:32   \n",
       "601            2018-05-28 14:09:00           2018-05-30 15:48:56   \n",
       "17109          2018-03-06 18:49:06           2018-03-22 16:22:59   \n",
       "\n",
       "      order_estimated_delivery_date status  delivery_time_days  \n",
       "11414                    2018-05-09  Early                  10  \n",
       "601                      2018-06-20  Early                   3  \n",
       "17109                    2018-04-02  Early                  22  "
      ]
     },
     "execution_count": 88,
     "metadata": {},
     "output_type": "execute_result"
    }
   ],
   "source": [
    "success_orders_df['delivery_time_days'] = (success_orders_df['order_delivered_customer_date'] - success_orders_df['order_purchase_timestamp']).dt.days\n",
    "\n",
    "success_orders_df.sample(3)"
   ]
  },
  {
   "cell_type": "code",
   "execution_count": 89,
   "metadata": {
    "scrolled": true
   },
   "outputs": [
    {
     "data": {
      "text/plain": [
       "count    96455.000000\n",
       "mean        12.093100\n",
       "std          9.551209\n",
       "min          0.000000\n",
       "25%          6.000000\n",
       "50%         10.000000\n",
       "75%         15.000000\n",
       "max        209.000000\n",
       "Name: delivery_time_days, dtype: float64"
      ]
     },
     "execution_count": 89,
     "metadata": {},
     "output_type": "execute_result"
    }
   ],
   "source": [
    "success_orders_df['delivery_time_days'].describe()"
   ]
  },
  {
   "cell_type": "markdown",
   "metadata": {},
   "source": [
    "Dari rangkuman statistik tersebut kita dapat melihat beberapa poin penting, dari 96455 data, pesanan memiliki rata-rata waktu 12 hari perjalanan dengan pesanan yang paling cepat adalah dihari yang sama (0 hari) dan pesanan yang paling lama sampai bernilai 209 hari."
   ]
  },
  {
   "cell_type": "markdown",
   "metadata": {},
   "source": [
    "### Explore Data *order_reviews_df*"
   ]
  },
  {
   "cell_type": "code",
   "execution_count": 90,
   "metadata": {
    "scrolled": true
   },
   "outputs": [
    {
     "data": {
      "text/html": [
       "<div>\n",
       "<style scoped>\n",
       "    .dataframe tbody tr th:only-of-type {\n",
       "        vertical-align: middle;\n",
       "    }\n",
       "\n",
       "    .dataframe tbody tr th {\n",
       "        vertical-align: top;\n",
       "    }\n",
       "\n",
       "    .dataframe thead th {\n",
       "        text-align: right;\n",
       "    }\n",
       "</style>\n",
       "<table border=\"1\" class=\"dataframe\">\n",
       "  <thead>\n",
       "    <tr style=\"text-align: right;\">\n",
       "      <th></th>\n",
       "      <th>review_id</th>\n",
       "      <th>order_id</th>\n",
       "      <th>review_score</th>\n",
       "      <th>review_comment_title</th>\n",
       "      <th>review_comment_message</th>\n",
       "      <th>review_creation_date</th>\n",
       "      <th>review_answer_timestamp</th>\n",
       "    </tr>\n",
       "  </thead>\n",
       "  <tbody>\n",
       "    <tr>\n",
       "      <th>count</th>\n",
       "      <td>99224</td>\n",
       "      <td>99224</td>\n",
       "      <td>99224.000000</td>\n",
       "      <td>99224</td>\n",
       "      <td>99224</td>\n",
       "      <td>99224</td>\n",
       "      <td>99224</td>\n",
       "    </tr>\n",
       "    <tr>\n",
       "      <th>unique</th>\n",
       "      <td>98410</td>\n",
       "      <td>98673</td>\n",
       "      <td>NaN</td>\n",
       "      <td>4528</td>\n",
       "      <td>36160</td>\n",
       "      <td>636</td>\n",
       "      <td>98248</td>\n",
       "    </tr>\n",
       "    <tr>\n",
       "      <th>top</th>\n",
       "      <td>7b606b0d57b078384f0b58eac1d41d78</td>\n",
       "      <td>c88b1d1b157a9999ce368f218a407141</td>\n",
       "      <td>NaN</td>\n",
       "      <td>No Title</td>\n",
       "      <td>No Message</td>\n",
       "      <td>2017-12-19 00:00:00</td>\n",
       "      <td>2017-06-15 23:21:05</td>\n",
       "    </tr>\n",
       "    <tr>\n",
       "      <th>freq</th>\n",
       "      <td>3</td>\n",
       "      <td>3</td>\n",
       "      <td>NaN</td>\n",
       "      <td>87656</td>\n",
       "      <td>58247</td>\n",
       "      <td>463</td>\n",
       "      <td>4</td>\n",
       "    </tr>\n",
       "    <tr>\n",
       "      <th>mean</th>\n",
       "      <td>NaN</td>\n",
       "      <td>NaN</td>\n",
       "      <td>4.086421</td>\n",
       "      <td>NaN</td>\n",
       "      <td>NaN</td>\n",
       "      <td>NaN</td>\n",
       "      <td>NaN</td>\n",
       "    </tr>\n",
       "    <tr>\n",
       "      <th>std</th>\n",
       "      <td>NaN</td>\n",
       "      <td>NaN</td>\n",
       "      <td>1.347579</td>\n",
       "      <td>NaN</td>\n",
       "      <td>NaN</td>\n",
       "      <td>NaN</td>\n",
       "      <td>NaN</td>\n",
       "    </tr>\n",
       "    <tr>\n",
       "      <th>min</th>\n",
       "      <td>NaN</td>\n",
       "      <td>NaN</td>\n",
       "      <td>1.000000</td>\n",
       "      <td>NaN</td>\n",
       "      <td>NaN</td>\n",
       "      <td>NaN</td>\n",
       "      <td>NaN</td>\n",
       "    </tr>\n",
       "    <tr>\n",
       "      <th>25%</th>\n",
       "      <td>NaN</td>\n",
       "      <td>NaN</td>\n",
       "      <td>4.000000</td>\n",
       "      <td>NaN</td>\n",
       "      <td>NaN</td>\n",
       "      <td>NaN</td>\n",
       "      <td>NaN</td>\n",
       "    </tr>\n",
       "    <tr>\n",
       "      <th>50%</th>\n",
       "      <td>NaN</td>\n",
       "      <td>NaN</td>\n",
       "      <td>5.000000</td>\n",
       "      <td>NaN</td>\n",
       "      <td>NaN</td>\n",
       "      <td>NaN</td>\n",
       "      <td>NaN</td>\n",
       "    </tr>\n",
       "    <tr>\n",
       "      <th>75%</th>\n",
       "      <td>NaN</td>\n",
       "      <td>NaN</td>\n",
       "      <td>5.000000</td>\n",
       "      <td>NaN</td>\n",
       "      <td>NaN</td>\n",
       "      <td>NaN</td>\n",
       "      <td>NaN</td>\n",
       "    </tr>\n",
       "    <tr>\n",
       "      <th>max</th>\n",
       "      <td>NaN</td>\n",
       "      <td>NaN</td>\n",
       "      <td>5.000000</td>\n",
       "      <td>NaN</td>\n",
       "      <td>NaN</td>\n",
       "      <td>NaN</td>\n",
       "      <td>NaN</td>\n",
       "    </tr>\n",
       "  </tbody>\n",
       "</table>\n",
       "</div>"
      ],
      "text/plain": [
       "                               review_id                          order_id  \\\n",
       "count                              99224                             99224   \n",
       "unique                             98410                             98673   \n",
       "top     7b606b0d57b078384f0b58eac1d41d78  c88b1d1b157a9999ce368f218a407141   \n",
       "freq                                   3                                 3   \n",
       "mean                                 NaN                               NaN   \n",
       "std                                  NaN                               NaN   \n",
       "min                                  NaN                               NaN   \n",
       "25%                                  NaN                               NaN   \n",
       "50%                                  NaN                               NaN   \n",
       "75%                                  NaN                               NaN   \n",
       "max                                  NaN                               NaN   \n",
       "\n",
       "        review_score review_comment_title review_comment_message  \\\n",
       "count   99224.000000                99224                  99224   \n",
       "unique           NaN                 4528                  36160   \n",
       "top              NaN             No Title             No Message   \n",
       "freq             NaN                87656                  58247   \n",
       "mean        4.086421                  NaN                    NaN   \n",
       "std         1.347579                  NaN                    NaN   \n",
       "min         1.000000                  NaN                    NaN   \n",
       "25%         4.000000                  NaN                    NaN   \n",
       "50%         5.000000                  NaN                    NaN   \n",
       "75%         5.000000                  NaN                    NaN   \n",
       "max         5.000000                  NaN                    NaN   \n",
       "\n",
       "       review_creation_date review_answer_timestamp  \n",
       "count                 99224                   99224  \n",
       "unique                  636                   98248  \n",
       "top     2017-12-19 00:00:00     2017-06-15 23:21:05  \n",
       "freq                    463                       4  \n",
       "mean                    NaN                     NaN  \n",
       "std                     NaN                     NaN  \n",
       "min                     NaN                     NaN  \n",
       "25%                     NaN                     NaN  \n",
       "50%                     NaN                     NaN  \n",
       "75%                     NaN                     NaN  \n",
       "max                     NaN                     NaN  "
      ]
     },
     "execution_count": 90,
     "metadata": {},
     "output_type": "execute_result"
    }
   ],
   "source": [
    "order_reviews_df.describe(include='all')"
   ]
  },
  {
   "cell_type": "code",
   "execution_count": 91,
   "metadata": {},
   "outputs": [
    {
     "data": {
      "text/plain": [
       "review_score\n",
       "1    11424\n",
       "2     3151\n",
       "3     8179\n",
       "4    19142\n",
       "5    57328\n",
       "Name: review_id, dtype: int64"
      ]
     },
     "execution_count": 91,
     "metadata": {},
     "output_type": "execute_result"
    }
   ],
   "source": [
    "order_reviews_df.groupby(by='review_score').review_id.count()"
   ]
  },
  {
   "cell_type": "markdown",
   "metadata": {},
   "source": [
    "Berdasarkan hasil tersebut, dapat dilihat bahwa rata-rata keseluruhan skor ulasan adala 4, dengan skor 5 menjadi skor paling banyak dipilih pelanggan"
   ]
  },
  {
   "cell_type": "markdown",
   "metadata": {},
   "source": [
    "### Explore Data *orders_df* dan *order_reviews_df*"
   ]
  },
  {
   "cell_type": "markdown",
   "metadata": {},
   "source": [
    "Pada tahap ini kita akan mengeksplorasi data oders_df dan order_reviews_df. Langkah awal yang akan kita lakukan adalah melakukan merge atau join kedua data tersebut dengan kode berikut:"
   ]
  },
  {
   "cell_type": "code",
   "execution_count": 92,
   "metadata": {
    "scrolled": true
   },
   "outputs": [
    {
     "data": {
      "text/html": [
       "<div>\n",
       "<style scoped>\n",
       "    .dataframe tbody tr th:only-of-type {\n",
       "        vertical-align: middle;\n",
       "    }\n",
       "\n",
       "    .dataframe tbody tr th {\n",
       "        vertical-align: top;\n",
       "    }\n",
       "\n",
       "    .dataframe thead th {\n",
       "        text-align: right;\n",
       "    }\n",
       "</style>\n",
       "<table border=\"1\" class=\"dataframe\">\n",
       "  <thead>\n",
       "    <tr style=\"text-align: right;\">\n",
       "      <th></th>\n",
       "      <th>order_id</th>\n",
       "      <th>customer_id</th>\n",
       "      <th>order_status</th>\n",
       "      <th>order_purchase_timestamp</th>\n",
       "      <th>order_approved_at</th>\n",
       "      <th>order_delivered_carrier_date</th>\n",
       "      <th>order_delivered_customer_date</th>\n",
       "      <th>order_estimated_delivery_date</th>\n",
       "      <th>status</th>\n",
       "      <th>delivery_time_days</th>\n",
       "      <th>review_id</th>\n",
       "      <th>review_score</th>\n",
       "      <th>review_comment_title</th>\n",
       "      <th>review_comment_message</th>\n",
       "      <th>review_creation_date</th>\n",
       "      <th>review_answer_timestamp</th>\n",
       "    </tr>\n",
       "  </thead>\n",
       "  <tbody>\n",
       "    <tr>\n",
       "      <th>3752</th>\n",
       "      <td>0d387b5d8e636190398548a221d4185d</td>\n",
       "      <td>3aa067bb9a756282ef198ae577298bd9</td>\n",
       "      <td>delivered</td>\n",
       "      <td>2018-06-09 21:15:14</td>\n",
       "      <td>2018-06-09 21:38:23</td>\n",
       "      <td>2018-06-11 13:21:00</td>\n",
       "      <td>2018-06-13 13:34:40</td>\n",
       "      <td>2018-07-12</td>\n",
       "      <td>Early</td>\n",
       "      <td>3</td>\n",
       "      <td>9bc66edafab4f5c232ce2794e1d986b2</td>\n",
       "      <td>5.0</td>\n",
       "      <td>No Title</td>\n",
       "      <td>No Message</td>\n",
       "      <td>2018-06-14 00:00:00</td>\n",
       "      <td>2018-06-16 17:08:57</td>\n",
       "    </tr>\n",
       "    <tr>\n",
       "      <th>46918</th>\n",
       "      <td>30593e75030fe6f0927c50b59d997305</td>\n",
       "      <td>a99bad98823fb5fd025c8cec24159b52</td>\n",
       "      <td>delivered</td>\n",
       "      <td>2018-02-06 22:19:06</td>\n",
       "      <td>2018-02-06 22:31:34</td>\n",
       "      <td>2018-02-07 17:29:29</td>\n",
       "      <td>2018-02-09 13:48:59</td>\n",
       "      <td>2018-02-22</td>\n",
       "      <td>Early</td>\n",
       "      <td>2</td>\n",
       "      <td>be37a11f32f52b67298a617ce2a595f4</td>\n",
       "      <td>3.0</td>\n",
       "      <td>No Title</td>\n",
       "      <td>sim recebi...chegou rápido , porém o produto n...</td>\n",
       "      <td>2018-02-10 00:00:00</td>\n",
       "      <td>2018-02-10 16:38:21</td>\n",
       "    </tr>\n",
       "    <tr>\n",
       "      <th>1530</th>\n",
       "      <td>d62324319b4efb72f855f123f06cb07f</td>\n",
       "      <td>7eb38a9118f8a13aed9f3587e13e33cc</td>\n",
       "      <td>delivered</td>\n",
       "      <td>2017-05-21 22:53:02</td>\n",
       "      <td>2017-05-21 23:05:15</td>\n",
       "      <td>2017-05-23 15:45:14</td>\n",
       "      <td>2017-06-03 08:55:26</td>\n",
       "      <td>2017-06-20</td>\n",
       "      <td>Early</td>\n",
       "      <td>12</td>\n",
       "      <td>24abdddaab5b8aadd3b48bde0d3b7d1d</td>\n",
       "      <td>5.0</td>\n",
       "      <td>No Title</td>\n",
       "      <td>No Message</td>\n",
       "      <td>2017-06-04 00:00:00</td>\n",
       "      <td>2017-06-04 19:55:22</td>\n",
       "    </tr>\n",
       "  </tbody>\n",
       "</table>\n",
       "</div>"
      ],
      "text/plain": [
       "                               order_id                       customer_id  \\\n",
       "3752   0d387b5d8e636190398548a221d4185d  3aa067bb9a756282ef198ae577298bd9   \n",
       "46918  30593e75030fe6f0927c50b59d997305  a99bad98823fb5fd025c8cec24159b52   \n",
       "1530   d62324319b4efb72f855f123f06cb07f  7eb38a9118f8a13aed9f3587e13e33cc   \n",
       "\n",
       "      order_status order_purchase_timestamp   order_approved_at  \\\n",
       "3752     delivered      2018-06-09 21:15:14 2018-06-09 21:38:23   \n",
       "46918    delivered      2018-02-06 22:19:06 2018-02-06 22:31:34   \n",
       "1530     delivered      2017-05-21 22:53:02 2017-05-21 23:05:15   \n",
       "\n",
       "      order_delivered_carrier_date order_delivered_customer_date  \\\n",
       "3752           2018-06-11 13:21:00           2018-06-13 13:34:40   \n",
       "46918          2018-02-07 17:29:29           2018-02-09 13:48:59   \n",
       "1530           2017-05-23 15:45:14           2017-06-03 08:55:26   \n",
       "\n",
       "      order_estimated_delivery_date status  delivery_time_days  \\\n",
       "3752                     2018-07-12  Early                   3   \n",
       "46918                    2018-02-22  Early                   2   \n",
       "1530                     2017-06-20  Early                  12   \n",
       "\n",
       "                              review_id  review_score review_comment_title  \\\n",
       "3752   9bc66edafab4f5c232ce2794e1d986b2           5.0             No Title   \n",
       "46918  be37a11f32f52b67298a617ce2a595f4           3.0             No Title   \n",
       "1530   24abdddaab5b8aadd3b48bde0d3b7d1d           5.0             No Title   \n",
       "\n",
       "                                  review_comment_message review_creation_date  \\\n",
       "3752                                          No Message  2018-06-14 00:00:00   \n",
       "46918  sim recebi...chegou rápido , porém o produto n...  2018-02-10 00:00:00   \n",
       "1530                                          No Message  2017-06-04 00:00:00   \n",
       "\n",
       "      review_answer_timestamp  \n",
       "3752      2018-06-16 17:08:57  \n",
       "46918     2018-02-10 16:38:21  \n",
       "1530      2017-06-04 19:55:22  "
      ]
     },
     "execution_count": 92,
     "metadata": {},
     "output_type": "execute_result"
    }
   ],
   "source": [
    "review_df = pd.merge(\n",
    "    left=success_orders_df,\n",
    "    right=order_reviews_df,\n",
    "    how=\"left\",\n",
    "    left_on=\"order_id\",\n",
    "    right_on=\"order_id\"\n",
    ")\n",
    "\n",
    "review_df.sample(3)"
   ]
  },
  {
   "cell_type": "markdown",
   "metadata": {},
   "source": [
    "Selanjutnya, kita bisa menggunakan pivot table untuk melihat banyaknya masing-masing review untuk setiap status."
   ]
  },
  {
   "cell_type": "code",
   "execution_count": 93,
   "metadata": {},
   "outputs": [
    {
     "data": {
      "text/plain": [
       "status   review_score\n",
       "Early    1.0              5851\n",
       "         2.0              2334\n",
       "         3.0              7085\n",
       "         4.0             18029\n",
       "         5.0             55340\n",
       "Late     1.0              3444\n",
       "         2.0               556\n",
       "         3.0               697\n",
       "         4.0               652\n",
       "         5.0              1059\n",
       "On Time  1.0               110\n",
       "         2.0                50\n",
       "         3.0               178\n",
       "         4.0               302\n",
       "         5.0               651\n",
       "dtype: int64"
      ]
     },
     "execution_count": 93,
     "metadata": {},
     "output_type": "execute_result"
    }
   ],
   "source": [
    "review_df.groupby(['status', 'review_score']).size()"
   ]
  },
  {
   "cell_type": "code",
   "execution_count": 94,
   "metadata": {},
   "outputs": [
    {
     "data": {
      "text/html": [
       "<div>\n",
       "<style scoped>\n",
       "    .dataframe tbody tr th:only-of-type {\n",
       "        vertical-align: middle;\n",
       "    }\n",
       "\n",
       "    .dataframe tbody tr th {\n",
       "        vertical-align: top;\n",
       "    }\n",
       "\n",
       "    .dataframe thead tr th {\n",
       "        text-align: left;\n",
       "    }\n",
       "</style>\n",
       "<table border=\"1\" class=\"dataframe\">\n",
       "  <thead>\n",
       "    <tr>\n",
       "      <th></th>\n",
       "      <th>status</th>\n",
       "      <th colspan=\"3\" halign=\"left\">review_score</th>\n",
       "      <th>order_id</th>\n",
       "    </tr>\n",
       "    <tr>\n",
       "      <th></th>\n",
       "      <th></th>\n",
       "      <th>mean</th>\n",
       "      <th>max</th>\n",
       "      <th>min</th>\n",
       "      <th>count</th>\n",
       "    </tr>\n",
       "  </thead>\n",
       "  <tbody>\n",
       "    <tr>\n",
       "      <th>0</th>\n",
       "      <td>Early</td>\n",
       "      <td>4.293708</td>\n",
       "      <td>5.0</td>\n",
       "      <td>1.0</td>\n",
       "      <td>89120</td>\n",
       "    </tr>\n",
       "    <tr>\n",
       "      <th>1</th>\n",
       "      <td>Late</td>\n",
       "      <td>2.270599</td>\n",
       "      <td>5.0</td>\n",
       "      <td>1.0</td>\n",
       "      <td>6561</td>\n",
       "    </tr>\n",
       "    <tr>\n",
       "      <th>2</th>\n",
       "      <td>On Time</td>\n",
       "      <td>4.033308</td>\n",
       "      <td>5.0</td>\n",
       "      <td>1.0</td>\n",
       "      <td>1303</td>\n",
       "    </tr>\n",
       "  </tbody>\n",
       "</table>\n",
       "</div>"
      ],
      "text/plain": [
       "    status review_score           order_id\n",
       "                   mean  max  min    count\n",
       "0    Early     4.293708  5.0  1.0    89120\n",
       "1     Late     2.270599  5.0  1.0     6561\n",
       "2  On Time     4.033308  5.0  1.0     1303"
      ]
     },
     "execution_count": 94,
     "metadata": {},
     "output_type": "execute_result"
    }
   ],
   "source": [
    "review_df.groupby('status').agg({\n",
    "    'review_score': ['mean','max', 'min'],\n",
    "    'order_id': 'count'\n",
    "}).reset_index()"
   ]
  },
  {
   "cell_type": "markdown",
   "metadata": {},
   "source": [
    "Jika diperhatikan kembali status pesanan yang telat atau 'Late' memiliki rata-rata skor yang cukup buruk yaitu 2.2 saja, sebaliknya status lebih awal atau 'Early' memiliki skor paling tinggi dan diikuti dengan status 'On Time'. Ini menunjukkan secara langsung bahwa adanya hubungan antara waktu pengiriman dengan skor ulasan. "
   ]
  },
  {
   "cell_type": "markdown",
   "metadata": {},
   "source": [
    "Selanjutnya kita akan melakukan analisa untuk melihat **hubungan atnara kecepatan pengiriman dengan skor ulasan**, pertama-tama kita akan lakukan pengecekkan korelasi antara kolom delivery_time_days dengan review_score."
   ]
  },
  {
   "cell_type": "code",
   "execution_count": 95,
   "metadata": {},
   "outputs": [
    {
     "data": {
      "text/html": [
       "<div>\n",
       "<style scoped>\n",
       "    .dataframe tbody tr th:only-of-type {\n",
       "        vertical-align: middle;\n",
       "    }\n",
       "\n",
       "    .dataframe tbody tr th {\n",
       "        vertical-align: top;\n",
       "    }\n",
       "\n",
       "    .dataframe thead th {\n",
       "        text-align: right;\n",
       "    }\n",
       "</style>\n",
       "<table border=\"1\" class=\"dataframe\">\n",
       "  <thead>\n",
       "    <tr style=\"text-align: right;\">\n",
       "      <th></th>\n",
       "      <th>delivery_time_days</th>\n",
       "      <th>review_score</th>\n",
       "    </tr>\n",
       "  </thead>\n",
       "  <tbody>\n",
       "    <tr>\n",
       "      <th>delivery_time_days</th>\n",
       "      <td>1.000000</td>\n",
       "      <td>-0.333685</td>\n",
       "    </tr>\n",
       "    <tr>\n",
       "      <th>review_score</th>\n",
       "      <td>-0.333685</td>\n",
       "      <td>1.000000</td>\n",
       "    </tr>\n",
       "  </tbody>\n",
       "</table>\n",
       "</div>"
      ],
      "text/plain": [
       "                    delivery_time_days  review_score\n",
       "delivery_time_days            1.000000     -0.333685\n",
       "review_score                 -0.333685      1.000000"
      ]
     },
     "execution_count": 95,
     "metadata": {},
     "output_type": "execute_result"
    }
   ],
   "source": [
    "review_df[['delivery_time_days', 'review_score']].corr()"
   ]
  },
  {
   "cell_type": "markdown",
   "metadata": {},
   "source": [
    "Ternyata lamanya pengiriman pesanan ***Berkolerasi Negatif Sedang*** dengan skor ulasan, dengan begitu menunjukkan bahwasannya ketika nilai  delivery_time_days naik, maka nilai review_score cenderung menurun, begitu pula sebaliknya."
   ]
  },
  {
   "cell_type": "markdown",
   "metadata": {
    "id": "zsyZjqak8DC2"
   },
   "source": [
    "## Visualization & Explanatory Analysis"
   ]
  },
  {
   "cell_type": "markdown",
   "metadata": {
    "id": "HZxOiQ6n8DC2"
   },
   "source": [
    "### Apakah pesanan sampai ke tujuan sesuai dengan prediksi atau sebaliknya?"
   ]
  },
  {
   "cell_type": "markdown",
   "metadata": {},
   "source": [
    "Pertanyaan ini bertujuan untuk mengukur tingkat keakuratan estimasi pengiriman dan efisiensi logistik dalam proses pengiriman pesanan."
   ]
  },
  {
   "cell_type": "code",
   "execution_count": 96,
   "metadata": {
    "id": "1swJUdAD8DC2"
   },
   "outputs": [
    {
     "data": {
      "image/png": "[encoded data removed]",
      "text/plain": [
       "<Figure size 1000x600 with 1 Axes>"
      ]
     },
     "metadata": {},
     "output_type": "display_data"
    }
   ],
   "source": [
    "status_counts = success_orders_df['status'].value_counts()\n",
    "status_counts = status_counts[['Early', 'On Time', 'Late']]\n",
    "\n",
    "plt.figure(figsize=(10, 6))\n",
    "plt.bar(status_counts.index, status_counts.values, color=['#0d62ff', '#5792ff', '#8ab3ff'])\n",
    "plt.title('Status Pesanan', fontsize=14)\n",
    "\n",
    "for i in range(len(status_counts)):\n",
    "    plt.text(i, status_counts.values[i], status_counts.values[i], ha='center', va='bottom')\n",
    "\n",
    "plt.xticks(rotation=0)\n",
    "plt.grid(axis='y', linestyle='--', alpha=0.7)\n",
    "plt.tight_layout()\n",
    "plt.show()"
   ]
  },
  {
   "cell_type": "markdown",
   "metadata": {
    "id": "DgHI7CiU8DC2"
   },
   "source": [
    "### Seberapa lama pesanan sampai ke tangan pelanggan?"
   ]
  },
  {
   "cell_type": "markdown",
   "metadata": {},
   "source": [
    "Dalam pertanyaan ini kita ingin mencari waktu (dalam hari) yang terkait dengan lamanya pesanan sampai ke tujuan. Untuk visualisasi pertanyaan ini kita akan menggunakan ***Histogram***."
   ]
  },
  {
   "cell_type": "code",
   "execution_count": 97,
   "metadata": {
    "id": "Go0lCsvO8DC2"
   },
   "outputs": [
    {
     "data": {
      "image/png": "[encoded data removed]",
      "text/plain": [
       "<Figure size 1000x600 with 1 Axes>"
      ]
     },
     "metadata": {},
     "output_type": "display_data"
    }
   ],
   "source": [
    "plt.figure(figsize=(10, 6))\n",
    "\n",
    "plt.hist(success_orders_df['delivery_time_days'], bins=30, color='#5792ff', alpha=0.6, edgecolor='black')\n",
    "\n",
    "plt.xlabel('Waktu Pengiriman (Hari)', fontsize=12)\n",
    "plt.ylabel('Frekuensi', fontsize=12)\n",
    "plt.title('Distribution of Actual Delivery Time in Success Orders', fontsize=16)\n",
    "\n",
    "mean_value = success_orders_df['delivery_time_days'].mean()\n",
    "median_value = success_orders_df['delivery_time_days'].median()\n",
    "plt.axvline(mean_value, color='red', linestyle='dashed', linewidth=1, label=f'Mean: {mean_value:.2f} days')\n",
    "plt.axvline(median_value, color='green', linestyle='dashed', linewidth=1, label=f'Median: {median_value:.2f} days')\n",
    "\n",
    "plt.legend()\n",
    "plt.grid(axis='y', linestyle='--', alpha=0.7)\n",
    "\n",
    "plt.tight_layout()\n",
    "plt.show()"
   ]
  },
  {
   "cell_type": "markdown",
   "metadata": {},
   "source": [
    "### Adakah hubungan kecepatan pengiriman dengan kepuasan pelanggan?"
   ]
  },
  {
   "cell_type": "markdown",
   "metadata": {},
   "source": [
    "Kita akan mengidentifikasi hubungan kecepatan pegiriman dengan kepuasan pelanggan. Untuk melakukannya kita akan menggunakan dataframe hasil merge antara order_df dan order_reviews_df yaitu review_df. Kita akan membuat ***Box Plot*** karena review_score yang bersifat kategori dan delivery_time_days yang bersifat numerik."
   ]
  },
  {
   "cell_type": "code",
   "execution_count": 98,
   "metadata": {},
   "outputs": [
    {
     "data": {
      "image/png": "[encoded data removed]",
      "text/plain": [
       "<Figure size 1000x600 with 1 Axes>"
      ]
     },
     "metadata": {},
     "output_type": "display_data"
    }
   ],
   "source": [
    "average_delivery_time = review_df.groupby('review_score')['delivery_time_days'].mean().reset_index()\n",
    "\n",
    "plt.figure(figsize=(10, 6))\n",
    "sns.barplot(data=average_delivery_time, x='review_score', y='delivery_time_days', color='#5792ff')\n",
    "plt.title('Rata-Rata Waktu Pengiriman dengan Ulasan')\n",
    "plt.ylabel('Rata-Rata (Hari)')\n",
    "plt.xlabel('Skor Ulasan')\n",
    "plt.grid(axis='y', linestyle='--', alpha=0.7)\n",
    "plt.show()"
   ]
  },
  {
   "cell_type": "markdown",
   "metadata": {},
   "source": [
    "## Analisis Lanjutan"
   ]
  },
  {
   "cell_type": "markdown",
   "metadata": {},
   "source": [
    "***Clustering***"
   ]
  },
  {
   "cell_type": "markdown",
   "metadata": {},
   "source": [
    "Kita dapat membuat kategori rentang (***bins***) hari perjalanan pesanan dengan menggunakan fungsi ***cut()*** milik pandas, kita akan mendefinisikan rentang sebanyak 5 atau 10 interval nantinya data kategori akan dimasukkan ke kolom delivery_time_category. Kemudian kategori tersebut akan di tampilkan menggunakan pivot table beserta dengan rata-rata skor ulasan."
   ]
  },
  {
   "cell_type": "code",
   "execution_count": 99,
   "metadata": {},
   "outputs": [
    {
     "data": {
      "text/html": [
       "<div>\n",
       "<style scoped>\n",
       "    .dataframe tbody tr th:only-of-type {\n",
       "        vertical-align: middle;\n",
       "    }\n",
       "\n",
       "    .dataframe tbody tr th {\n",
       "        vertical-align: top;\n",
       "    }\n",
       "\n",
       "    .dataframe thead th {\n",
       "        text-align: right;\n",
       "    }\n",
       "</style>\n",
       "<table border=\"1\" class=\"dataframe\">\n",
       "  <thead>\n",
       "    <tr style=\"text-align: right;\">\n",
       "      <th></th>\n",
       "      <th>delivery_time_category</th>\n",
       "      <th>review_score</th>\n",
       "      <th>order_id</th>\n",
       "    </tr>\n",
       "  </thead>\n",
       "  <tbody>\n",
       "    <tr>\n",
       "      <th>0</th>\n",
       "      <td>0-5</td>\n",
       "      <td>4.430943</td>\n",
       "      <td>19302</td>\n",
       "    </tr>\n",
       "    <tr>\n",
       "      <th>1</th>\n",
       "      <td>6-10</td>\n",
       "      <td>4.347875</td>\n",
       "      <td>33018</td>\n",
       "    </tr>\n",
       "    <tr>\n",
       "      <th>2</th>\n",
       "      <td>11-15</td>\n",
       "      <td>4.245309</td>\n",
       "      <td>21288</td>\n",
       "    </tr>\n",
       "    <tr>\n",
       "      <th>3</th>\n",
       "      <td>16-20</td>\n",
       "      <td>4.091172</td>\n",
       "      <td>10788</td>\n",
       "    </tr>\n",
       "    <tr>\n",
       "      <th>4</th>\n",
       "      <td>21-30</td>\n",
       "      <td>3.577889</td>\n",
       "      <td>8435</td>\n",
       "    </tr>\n",
       "    <tr>\n",
       "      <th>5</th>\n",
       "      <td>31-40</td>\n",
       "      <td>2.399919</td>\n",
       "      <td>2515</td>\n",
       "    </tr>\n",
       "    <tr>\n",
       "      <th>6</th>\n",
       "      <td>40+</td>\n",
       "      <td>1.779031</td>\n",
       "      <td>1562</td>\n",
       "    </tr>\n",
       "  </tbody>\n",
       "</table>\n",
       "</div>"
      ],
      "text/plain": [
       "  delivery_time_category  review_score  order_id\n",
       "0                    0-5      4.430943     19302\n",
       "1                   6-10      4.347875     33018\n",
       "2                  11-15      4.245309     21288\n",
       "3                  16-20      4.091172     10788\n",
       "4                  21-30      3.577889      8435\n",
       "5                  31-40      2.399919      2515\n",
       "6                    40+      1.779031      1562"
      ]
     },
     "execution_count": 99,
     "metadata": {},
     "output_type": "execute_result"
    }
   ],
   "source": [
    "review_df['delivery_time_category'] = pd.cut(\n",
    "    review_df['delivery_time_days'],\n",
    "    bins=[0, 5, 10, 15, 20, 30, 40, 100],\n",
    "    labels=['0-5', '6-10', '11-15', '16-20', '21-30', '31-40', '40+']\n",
    ")\n",
    "\n",
    "review_df.groupby('delivery_time_category', observed=False).agg({\n",
    "    'review_score': 'mean',\n",
    "    'order_id': 'count'\n",
    "}).reset_index()"
   ]
  },
  {
   "cell_type": "markdown",
   "metadata": {},
   "source": [
    "Penurunan skor ulasan tidak dapat dipungkiri lagi, bisa dilihat penurunan yang signifikan terjadi antara rata-rata skor sepanjang kategori hari lamanya proses pengiriman. "
   ]
  },
  {
   "cell_type": "markdown",
   "metadata": {
    "id": "_WeHlCeX8DC2"
   },
   "source": [
    "## Conclusion"
   ]
  },
  {
   "cell_type": "markdown",
   "metadata": {
    "id": "ZTcyR48Y8DC2"
   },
   "source": [
    "- Apakah pesanan sampai ke tujuan sesuai dengan prediksi atau sebaliknya? Data ini menunjukkan bahwa pesanan rata-rata **tiba lebih awal** dibandingkan dengan tanggal prediksi, dengan nilai rata-rata perbedaan tanggal sampai dengan tanggal estimasi sebesar 10.8.\n",
    "- Seberapa lama pesanan sampai ke tangan pelanggan? Proses pengiriman pesanan sampai ke tujuan dengan rata-rata 12 hari, tentunya nilai itu tidak melihat variabel lain seperti jarak, berat, dan wilayah.\n",
    "- Adakah hubungan kecepatan pengiriman dengan kepuasan pelanggan? Singkatnya Ya, ada hubungan kecepatan pengiriman dengan kepuasan pelanggan, kolom ulasan dan waktu hari pengiriman memiliki korelasi ***Negatif Sedang***. Rata-rata hari pengiriman yang lama juga cenderung seiring dengan kurangnya skor ulasan."
   ]
  }
 ],
 "metadata": {
  "colab": {
   "provenance": []
  },
  "kernelspec": {
   "display_name": "Python 3 (ipykernel)",
   "language": "python",
   "name": "python3"
  },
  "language_info": {
   "codemirror_mode": {
    "name": "ipython",
    "version": 3
   },
   "file_extension": ".py",
   "mimetype": "text/x-python",
   "name": "python",
   "nbconvert_exporter": "python",
   "pygments_lexer": "ipython3",
   "version": "3.12.6"
  },
  "vscode": {
   "interpreter": {
    "hash": "972b3bf27e332e87b5379f2791f6ef9dfc79c71018c370b0d7423235e20fe4d7"
   }
  }
 },
 "nbformat": 4,
 "nbformat_minor": 4
}
